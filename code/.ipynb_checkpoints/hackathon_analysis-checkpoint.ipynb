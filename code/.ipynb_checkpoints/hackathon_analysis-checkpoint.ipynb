{
 "cells": [
  {
   "cell_type": "markdown",
   "metadata": {},
   "source": [
    "# OctagonxGA Hackathon: Reddit Comment Analysis\n",
    "### Danielle Medellin, Sally Huang, Stephen Burnett, Pierce Butler, Katherine Lough"
   ]
  },
  {
   "cell_type": "markdown",
   "metadata": {},
   "source": [
    "## Import Libraries"
   ]
  },
  {
   "cell_type": "code",
   "execution_count": 27,
   "metadata": {},
   "outputs": [],
   "source": [
    "import pandas as pd\n",
    "import numpy as np\n",
    "import matplotlib.pyplot as plt\n",
    "\n",
    "import nltk\n",
    "from nltk.stem import WordNetLemmatizer\n",
    "from nltk.tokenize import RegexpTokenizer\n",
    "from nltk.stem.porter import PorterStemmer\n",
    "import re\n",
    "from bs4 import BeautifulSoup   \n",
    "from nltk.corpus import stopwords\n",
    "\n",
    "from sklearn.model_selection import train_test_split\n",
    "from sklearn.feature_extraction.text import CountVectorizer, TfidfVectorizer, ENGLISH_STOP_WORDS as stopwords"
   ]
  },
  {
   "cell_type": "markdown",
   "metadata": {},
   "source": [
    "## Import Data"
   ]
  },
  {
   "cell_type": "code",
   "execution_count": 164,
   "metadata": {},
   "outputs": [],
   "source": [
    "# read data\n",
    "events = pd.read_csv('../data/events_reddit.csv')"
   ]
  },
  {
   "cell_type": "code",
   "execution_count": 165,
   "metadata": {},
   "outputs": [
    {
     "data": {
      "text/html": [
       "<div>\n",
       "<style scoped>\n",
       "    .dataframe tbody tr th:only-of-type {\n",
       "        vertical-align: middle;\n",
       "    }\n",
       "\n",
       "    .dataframe tbody tr th {\n",
       "        vertical-align: top;\n",
       "    }\n",
       "\n",
       "    .dataframe thead th {\n",
       "        text-align: right;\n",
       "    }\n",
       "</style>\n",
       "<table border=\"1\" class=\"dataframe\">\n",
       "  <thead>\n",
       "    <tr style=\"text-align: right;\">\n",
       "      <th></th>\n",
       "      <th>author</th>\n",
       "      <th>body</th>\n",
       "      <th>created_utc</th>\n",
       "      <th>subreddit</th>\n",
       "      <th>permalink</th>\n",
       "      <th>query</th>\n",
       "      <th>timestamp</th>\n",
       "    </tr>\n",
       "  </thead>\n",
       "  <tbody>\n",
       "    <tr>\n",
       "      <th>0</th>\n",
       "      <td>GrauGeist8888</td>\n",
       "      <td>WTF are you even asking for?  It is self-evide...</td>\n",
       "      <td>1590182777</td>\n",
       "      <td>Coronavirus</td>\n",
       "      <td>/r/Coronavirus/comments/gnuq3s/only_73_of_peop...</td>\n",
       "      <td>measures</td>\n",
       "      <td>2020-05-22</td>\n",
       "    </tr>\n",
       "    <tr>\n",
       "      <th>1</th>\n",
       "      <td>Disaster_Area</td>\n",
       "      <td>I'm context it's quite obvious that I was sayi...</td>\n",
       "      <td>1590183249</td>\n",
       "      <td>Coronavirus</td>\n",
       "      <td>/r/Coronavirus/comments/go0p56/potus_has_legal...</td>\n",
       "      <td>measures</td>\n",
       "      <td>2020-05-22</td>\n",
       "    </tr>\n",
       "    <tr>\n",
       "      <th>2</th>\n",
       "      <td>IHeedNealing</td>\n",
       "      <td>Not at all my point or intent. Just a few week...</td>\n",
       "      <td>1590183477</td>\n",
       "      <td>Coronavirus</td>\n",
       "      <td>/r/Coronavirus/comments/gojqi1/daily_discussio...</td>\n",
       "      <td>measures</td>\n",
       "      <td>2020-05-22</td>\n",
       "    </tr>\n",
       "    <tr>\n",
       "      <th>3</th>\n",
       "      <td>Omnitraxus</td>\n",
       "      <td>&amp;gt;One of your aunt's colleagues is a super s...</td>\n",
       "      <td>1590183560</td>\n",
       "      <td>Coronavirus</td>\n",
       "      <td>/r/Coronavirus/comments/go9exo/the_us_records_...</td>\n",
       "      <td>measures</td>\n",
       "      <td>2020-05-22</td>\n",
       "    </tr>\n",
       "    <tr>\n",
       "      <th>4</th>\n",
       "      <td>srelma</td>\n",
       "      <td>&amp;gt;Were reporting something like 140k deaths ...</td>\n",
       "      <td>1590183767</td>\n",
       "      <td>Coronavirus</td>\n",
       "      <td>/r/Coronavirus/comments/goicek/the_death_toll_...</td>\n",
       "      <td>measures</td>\n",
       "      <td>2020-05-22</td>\n",
       "    </tr>\n",
       "  </tbody>\n",
       "</table>\n",
       "</div>"
      ],
      "text/plain": [
       "          author                                               body  \\\n",
       "0  GrauGeist8888  WTF are you even asking for?  It is self-evide...   \n",
       "1  Disaster_Area  I'm context it's quite obvious that I was sayi...   \n",
       "2   IHeedNealing  Not at all my point or intent. Just a few week...   \n",
       "3     Omnitraxus  &gt;One of your aunt's colleagues is a super s...   \n",
       "4         srelma  &gt;Were reporting something like 140k deaths ...   \n",
       "\n",
       "   created_utc    subreddit  \\\n",
       "0   1590182777  Coronavirus   \n",
       "1   1590183249  Coronavirus   \n",
       "2   1590183477  Coronavirus   \n",
       "3   1590183560  Coronavirus   \n",
       "4   1590183767  Coronavirus   \n",
       "\n",
       "                                           permalink     query   timestamp  \n",
       "0  /r/Coronavirus/comments/gnuq3s/only_73_of_peop...  measures  2020-05-22  \n",
       "1  /r/Coronavirus/comments/go0p56/potus_has_legal...  measures  2020-05-22  \n",
       "2  /r/Coronavirus/comments/gojqi1/daily_discussio...  measures  2020-05-22  \n",
       "3  /r/Coronavirus/comments/go9exo/the_us_records_...  measures  2020-05-22  \n",
       "4  /r/Coronavirus/comments/goicek/the_death_toll_...  measures  2020-05-22  "
      ]
     },
     "execution_count": 165,
     "metadata": {},
     "output_type": "execute_result"
    }
   ],
   "source": [
    "# show df \n",
    "events.head()"
   ]
  },
  {
   "cell_type": "markdown",
   "metadata": {},
   "source": [
    "## Exploratory Data Analysis"
   ]
  },
  {
   "cell_type": "code",
   "execution_count": 166,
   "metadata": {},
   "outputs": [],
   "source": [
    "# words to be removed or added to `custom_stopwords` list \n",
    "remove = ['against','enough','only','no','not']\n",
    "append = ['like','don','gt','https','www','scmp','com','x200b','2020', 'does','did']"
   ]
  },
  {
   "cell_type": "markdown",
   "metadata": {},
   "source": [
    "After iterating through this process a few times, some words were found to be unnecessary and thus were added to the stopwords list, such as words from links (`https`) and others were deemed necessary and removed from the stop words list, such as `not`, in order to get a better read on sentiment found within the Reddit comments."
   ]
  },
  {
   "cell_type": "code",
   "execution_count": 167,
   "metadata": {},
   "outputs": [],
   "source": [
    "# editing custom stopwords list from stopwords found in SKLearn\n",
    "custom_stops = list(stopwords)\n",
    "for word in remove:\n",
    "    custom_stops.remove(word)\n",
    "for word in append:\n",
    "    custom_stops.append(word)"
   ]
  },
  {
   "cell_type": "code",
   "execution_count": 168,
   "metadata": {},
   "outputs": [],
   "source": [
    "# stripping comments of punctuation and stop words\n",
    "stripped_comments = []\n",
    "\n",
    "for comment in events['body']:\n",
    "    letters_only = re.sub(\"[^a-zA-Z]\",\" \", comment)\n",
    "    words = letters_only.lower().split()\n",
    "    meaningful_words = [w for w in words if w not in custom_stops] \n",
    "    new_body = \" \".join(meaningful_words)\n",
    "    stripped_comments.append(new_body)\n",
    "\n",
    "events['stripped'] = stripped_comments"
   ]
  },
  {
   "cell_type": "code",
   "execution_count": 170,
   "metadata": {},
   "outputs": [],
   "source": [
    "cvec = CountVectorizer(stop_words=custom_stops, ngram_range=(2,4))\n",
    "X_text = events['body']\n",
    "X_text = cvec.fit_transform(X_text)\n",
    "X_text_df = pd.DataFrame(X_text.toarray(), columns = cvec.get_feature_names())"
   ]
  },
  {
   "cell_type": "markdown",
   "metadata": {},
   "source": [
    "Each comment was put through a count vectorizer to determine the most frequently found words and phrases. A minimum n-gram of 2 was used in order to give more context to the comments. "
   ]
  },
  {
   "cell_type": "code",
   "execution_count": 171,
   "metadata": {},
   "outputs": [],
   "source": [
    "# find top 20 most common words/phrases \n",
    "top20words = X_text_df.sum().sort_values(ascending=False)[:20]"
   ]
  },
  {
   "cell_type": "code",
   "execution_count": 172,
   "metadata": {},
   "outputs": [
    {
     "data": {
      "image/png": "[encoded data removed]",
      "text/plain": [
       "<Figure size 576x576 with 1 Axes>"
      ]
     },
     "metadata": {
      "needs_background": "light"
     },
     "output_type": "display_data"
    }
   ],
   "source": [
    "plt.figure(figsize=(8,8))\n",
    "plt.barh(y=top20words.index[::-1],width=top20words[::-1],color='goldenrod')\n",
    "plt.suptitle('Most Frequently Used Words in Comments',size=19)\n",
    "plt.title('r/Coronavirus',size=15)\n",
    "plt.xlabel('Frequency',size=13)\n",
    "plt.ylabel('Top Words',size=13)\n",
    "plt.yticks(size=11.5);"
   ]
  },
  {
   "cell_type": "markdown",
   "metadata": {},
   "source": [
    "Many of the phrases on this graph are unsurprising such as `covid 19` and `social distancing`. There are multiple iterations of phrases pertaining to wearing masks. Some phrases are relevant to protocols put in place such as `social distancing measures`, `herd immunity`, and `public health`. Overall, this does not give us a clear picture as to how people are feeling towards COVID-19 or more specifically, how they are reacting to the possibility of attending events in the future. The phrase `stay home` is the second most occurring phrase, but even this can be misleading as a comment can say \"I don't think I should _stay home_.\" "
   ]
  },
  {
   "cell_type": "code",
   "execution_count": null,
   "metadata": {},
   "outputs": [],
   "source": []
  },
  {
   "cell_type": "code",
   "execution_count": null,
   "metadata": {},
   "outputs": [],
   "source": []
  }
 ],
 "metadata": {
  "kernelspec": {
   "display_name": "Python [conda env:dsi] *",
   "language": "python",
   "name": "conda-env-dsi-py"
  },
  "language_info": {
   "codemirror_mode": {
    "name": "ipython",
    "version": 3
   },
   "file_extension": ".py",
   "mimetype": "text/x-python",
   "name": "python",
   "nbconvert_exporter": "python",
   "pygments_lexer": "ipython3",
   "version": "3.7.7"
  }
 },
 "nbformat": 4,
 "nbformat_minor": 4
}
