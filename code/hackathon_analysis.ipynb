{
 "cells": [
  {
   "cell_type": "markdown",
   "metadata": {},
   "source": [
    "# Hackathon Reddit Sentiment Analysis"
   ]
  },
  {
   "cell_type": "code",
   "execution_count": 27,
   "metadata": {},
   "outputs": [],
   "source": [
    "import pandas as pd\n",
    "import numpy as np\n",
    "import matplotlib.pyplot as plt\n",
    "\n",
    "import nltk\n",
    "from nltk.stem import WordNetLemmatizer\n",
    "from nltk.tokenize import RegexpTokenizer\n",
    "from nltk.stem.porter import PorterStemmer\n",
    "import re\n",
    "from bs4 import BeautifulSoup   \n",
    "from nltk.corpus import stopwords\n",
    "\n",
    "from sklearn.model_selection import train_test_split\n",
    "from sklearn.feature_extraction.text import CountVectorizer, TfidfVectorizer, ENGLISH_STOP_WORDS as stopwords"
   ]
  },
  {
   "cell_type": "code",
   "execution_count": 143,
   "metadata": {},
   "outputs": [],
   "source": [
    "# read data\n",
    "events = pd.read_csv('../data/events_reddit.csv')"
   ]
  },
  {
   "cell_type": "code",
   "execution_count": 144,
   "metadata": {},
   "outputs": [
    {
     "data": {
      "text/html": [
       "<div>\n",
       "<style scoped>\n",
       "    .dataframe tbody tr th:only-of-type {\n",
       "        vertical-align: middle;\n",
       "    }\n",
       "\n",
       "    .dataframe tbody tr th {\n",
       "        vertical-align: top;\n",
       "    }\n",
       "\n",
       "    .dataframe thead th {\n",
       "        text-align: right;\n",
       "    }\n",
       "</style>\n",
       "<table border=\"1\" class=\"dataframe\">\n",
       "  <thead>\n",
       "    <tr style=\"text-align: right;\">\n",
       "      <th></th>\n",
       "      <th>author</th>\n",
       "      <th>body</th>\n",
       "      <th>created_utc</th>\n",
       "      <th>subreddit</th>\n",
       "      <th>permalink</th>\n",
       "      <th>timestamp</th>\n",
       "    </tr>\n",
       "  </thead>\n",
       "  <tbody>\n",
       "    <tr>\n",
       "      <th>0</th>\n",
       "      <td>DjMagicTouch</td>\n",
       "      <td>You're thinking in extremes man. Just like eve...</td>\n",
       "      <td>1590177465</td>\n",
       "      <td>Coronavirus</td>\n",
       "      <td>/r/Coronavirus/comments/gojqi1/daily_discussio...</td>\n",
       "      <td>2020-05-22</td>\n",
       "    </tr>\n",
       "    <tr>\n",
       "      <th>1</th>\n",
       "      <td>lisaseileise</td>\n",
       "      <td>No, what is so hard to understand here? It‘s j...</td>\n",
       "      <td>1590177616</td>\n",
       "      <td>Coronavirus</td>\n",
       "      <td>/r/Coronavirus/comments/gonje6/the_coronavirus...</td>\n",
       "      <td>2020-05-22</td>\n",
       "    </tr>\n",
       "    <tr>\n",
       "      <th>2</th>\n",
       "      <td>jeopardy987987</td>\n",
       "      <td>it's killed nearly 100,000 in the US in just a...</td>\n",
       "      <td>1590177796</td>\n",
       "      <td>Coronavirus</td>\n",
       "      <td>/r/Coronavirus/comments/gokm4t/a_majority_of_a...</td>\n",
       "      <td>2020-05-22</td>\n",
       "    </tr>\n",
       "    <tr>\n",
       "      <th>3</th>\n",
       "      <td>gp_dude</td>\n",
       "      <td>You are living in an alternate reality if you ...</td>\n",
       "      <td>1590177806</td>\n",
       "      <td>Coronavirus</td>\n",
       "      <td>/r/Coronavirus/comments/goql7x/sweden_escapes_...</td>\n",
       "      <td>2020-05-22</td>\n",
       "    </tr>\n",
       "    <tr>\n",
       "      <th>4</th>\n",
       "      <td>gp_dude</td>\n",
       "      <td>No, it's not accurate, that's what the officia...</td>\n",
       "      <td>1590178095</td>\n",
       "      <td>Coronavirus</td>\n",
       "      <td>/r/Coronavirus/comments/goql7x/sweden_escapes_...</td>\n",
       "      <td>2020-05-22</td>\n",
       "    </tr>\n",
       "  </tbody>\n",
       "</table>\n",
       "</div>"
      ],
      "text/plain": [
       "           author                                               body  \\\n",
       "0    DjMagicTouch  You're thinking in extremes man. Just like eve...   \n",
       "1    lisaseileise  No, what is so hard to understand here? It‘s j...   \n",
       "2  jeopardy987987  it's killed nearly 100,000 in the US in just a...   \n",
       "3         gp_dude  You are living in an alternate reality if you ...   \n",
       "4         gp_dude  No, it's not accurate, that's what the officia...   \n",
       "\n",
       "   created_utc    subreddit  \\\n",
       "0   1590177465  Coronavirus   \n",
       "1   1590177616  Coronavirus   \n",
       "2   1590177796  Coronavirus   \n",
       "3   1590177806  Coronavirus   \n",
       "4   1590178095  Coronavirus   \n",
       "\n",
       "                                           permalink   timestamp  \n",
       "0  /r/Coronavirus/comments/gojqi1/daily_discussio...  2020-05-22  \n",
       "1  /r/Coronavirus/comments/gonje6/the_coronavirus...  2020-05-22  \n",
       "2  /r/Coronavirus/comments/gokm4t/a_majority_of_a...  2020-05-22  \n",
       "3  /r/Coronavirus/comments/goql7x/sweden_escapes_...  2020-05-22  \n",
       "4  /r/Coronavirus/comments/goql7x/sweden_escapes_...  2020-05-22  "
      ]
     },
     "execution_count": 144,
     "metadata": {},
     "output_type": "execute_result"
    }
   ],
   "source": [
    "events.head()"
   ]
  },
  {
   "cell_type": "code",
   "execution_count": 145,
   "metadata": {},
   "outputs": [],
   "source": [
    "remove = ['against','enough','only','no','not']\n",
    "append = ['like','don','gt','https','www','scmp','com','x200b']"
   ]
  },
  {
   "cell_type": "code",
   "execution_count": 146,
   "metadata": {},
   "outputs": [],
   "source": [
    "custom_stops = list(stopwords)\n",
    "for word in remove:\n",
    "    custom_stops.remove(word)\n",
    "for word in append:\n",
    "    custom_stops.append(word)"
   ]
  },
  {
   "cell_type": "code",
   "execution_count": 147,
   "metadata": {},
   "outputs": [],
   "source": [
    "stripped_comments = []\n",
    "\n",
    "for comment in events['body']:\n",
    "    letters_only = re.sub(\"[^a-zA-Z]\",\" \", comment)\n",
    "    words = letters_only.lower().split()\n",
    "    meaningful_words = [w for w in words if w not in custom_stops] \n",
    "    new_body = \" \".join(meaningful_words)\n",
    "    stripped_comments.append(new_body)\n",
    "\n",
    "events['stripped'] = stripped_comments"
   ]
  },
  {
   "cell_type": "code",
   "execution_count": 148,
   "metadata": {},
   "outputs": [],
   "source": [
    "cvec = CountVectorizer(stop_words=custom_stops, ngram_range=(2,4))\n",
    "X_text = events['body']\n",
    "X_text = cvec.fit_transform(X_text)\n",
    "X_text_df = pd.DataFrame(X_text.toarray(), columns = cvec.get_feature_names())"
   ]
  },
  {
   "cell_type": "code",
   "execution_count": 149,
   "metadata": {},
   "outputs": [
    {
     "data": {
      "text/plain": [
       "social distancing             136\n",
       "covid 19                      124\n",
       "stay home                      68\n",
       "wearing masks                  49\n",
       "wear mask                      43\n",
       "second wave                    38\n",
       "does not                       36\n",
       "did not                        33\n",
       "wear masks                     32\n",
       "people not                     32\n",
       "new york                       32\n",
       "not just                       31\n",
       "public health                  29\n",
       "not going                      28\n",
       "2020 05                        27\n",
       "wearing mask                   27\n",
       "herd immunity                  25\n",
       "nursing homes                  25\n",
       "long term                      24\n",
       "distancing measures            24\n",
       "not sure                       23\n",
       "social media                   23\n",
       "not only                       22\n",
       "contact tracing                21\n",
       "no longer                      21\n",
       "social distancing measures     19\n",
       "lot people                     18\n",
       "2020 04                        18\n",
       "just not                       18\n",
       "not fan                        18\n",
       "common sense                   17\n",
       "doesn mean                     17\n",
       "ve seen                        17\n",
       "people just                    17\n",
       "people died                    17\n",
       "people die                     16\n",
       "people know                    16\n",
       "know people                    16\n",
       "mask wearing                   16\n",
       "not wearing                    16\n",
       "no matter                      16\n",
       "no mask                        16\n",
       "100 000                        15\n",
       "safety protocols               15\n",
       "long time                      15\n",
       "make sure                      14\n",
       "people think                   14\n",
       "feel safe                      14\n",
       "masks not                      14\n",
       "feel unsafe                    14\n",
       "dtype: int64"
      ]
     },
     "execution_count": 149,
     "metadata": {},
     "output_type": "execute_result"
    }
   ],
   "source": [
    "X_text_df.sum().sort_values(ascending=False)[:50]"
   ]
  },
  {
   "cell_type": "code",
   "execution_count": 142,
   "metadata": {},
   "outputs": [
    {
     "data": {
      "text/plain": [
       "['scares flipping channels landed qvc accident selling breathable masks masks let mr corona right lungs bosses want open office staff june m not sure office safe require makes arrangements travel safely possible pay mortgage risk bounced house situation absolutely insane',\n",
       " 'muh afganistan bold assume t think huge waste money ve supported m not sure point complaining taxpayer money used m pointing non issue trillions spent waging war apparently money isn t available people safe home no evidence people want work ll stick opinion no choice point stay home not knock effects virus affect stay home father heart attack hospital t cope example realise poorer people live extended family t really distance',\n",
       " 'interesting tangents not sure states lying numbers states reopening masks social distancing m rabbit search new hole did scan applicable executive order sounds event violation just thought funny care comes great michigan actually took action against president',\n",
       " 'aspies thrivvvvinnnggg no ones trying chill tons time just sit look random facts no family gatherings attend no festivals parties no sports tv time social aspect things digging year not sure helps u not ve doing laps local lake just s no kick actually open m not sure',\n",
       " 'not sure motivation previously m afraid far m aware poor history rushed vaccines question just face value odd downvoted think answer helpful help formulate opinion truly going big decision successful vaccines certainly great ones minimal effects typically slow public testing phase unreasonable development takes long understanding convoluted testing time trials probably best dangerous past successful vaccines quickly developed labs simply held long time testing m hoping knowledge point x y vaccines developed month just held years eventually rolled public no ill effects ease concern know quickest vaccine market mumps believe took years successful safe believe concerned vaccine rolled year vaccine effects catastrophic not properly tested just agree stricter version lock save lives pandemic think behooves patience possible developing safe vaccine save not risk lives think hypocritical curious people harping stricter lock adherence life save matters admonishing reluctant quickly available vaccine spirit',\n",
       " 'not sure seen sakura picnic pictures meant lot talk character japanese beginning pandemic news social media didn t care social distancing limiting group gatherings guess japanese government starts act properly olympics postponing japanese people starts proper job edited add link japanese cherry blossoms attract crowds despite covid fears picture npr org sections pictureshow tokyo cherry blossom festival draws crowds despite coronavirus warnings',\n",
       " 'muh afganistan bold assume t think huge waste money ve supported m not sure point furthermore aren t just putting workers lives risk families friends no say matter no risk choose point t want risk stay home families live need work depend working need money just want work extended family friends choose maintain social distancing person',\n",
       " 'london days people insane numbers mask lot just chilling massive groups s happening town center not sure beaches weekend saw photos packed sardines no social distancing no masks good luck england gonna need',\n",
       " 's cents approach common baseline example ask believe natural pandemics isn t literally believe possible virus infect major global population people t fathom big events happening condition forgot t maybe point historical examples ok makes different natural maybe flu example second t think arguments sources going help think social emotional stuff help example know look celebrity friend doesn t agree casually drop oh did hear xyz doing benefit concert victims m not sure s love hear',\n",
       " 'll honest think only chance happening m not convinced obviously supportive t think replicate concert bar atmosphere vr s social experience getting dinner drinks not vr compatible friends meeting new people s physically near artist s irreplaceable small changes way people spread germs doubt note examples survived worse pandemics people really food examples hard permanently given risk low not middle pandemic imagine handshakes going away t think think extreme forms physical contact remain example people continue hug friends hello goodbye people continue make people just met bar forth lot people agree gut says won t happen worked software engineer alway clear people working home getting culture thing believe people capable working home no longer work normal not sure pandemic gotten people better adjusted working home does people think shift happen',\n",
       " 'likely infected detention mid route m not sure sure way tell t recall allegations putting symptomatic patients board not testing simply t recall believe testing simply meant fever check know specific concern guatemala reluctant use ppe space deportees sufficiently guatemala s standpoint stuffing healthy people sick people plane putting citizens risk interesting note know doing suspect fair bit testing deportees guatemala city cdc kind interesting pointed yes took citizens recall highest risk citizens flown tightly controlled conditions hope help prevent spread planes deportees similarly high risk covid easily spreads prisons goes pulls prison lockdown mixes sick entire day wonders guatemala pissed peeps treated way yeah pissed',\n",
       " 'companies mentioned article ve seen picture article pretty frequently normally m pretty happy company s safety culture unfortunately doesn t extend past s sshe think s impacted management boss pretty dismissive concerns brought concern virus wish surprised m disappointed t know boss turned tryhard corporate response come tone deaf straight dismissive clear think m low risk gets kids younger t elderly house m pretty sure virus home minimal symptoms wear face covering stores respect understand concern feels ve hurry office face bad quarter despite fact effective working home m not sure entirely feel thing sure feels shitshow',\n",
       " 'not know people sports drinking m not sure',\n",
       " 'not sure downvotes sports abhorrent racist practice died long time ago',\n",
       " 'wasn t elected mayor only degree community college years experience baltimore government objectively argue valuable years college not sure experience politics t know man brought exhausting school district corruption politican particular isn t investigated s real problem corruption baltimore government guy responsible directly wasn t elected mayor elected different positions baltimore years think really ignoring fact s mayor elected position mayor situations lastly calling dictator s doing exactly mayor doing using office protect public safety weight against shutdown s dictator s keeping shutdown place longer place mayors u s dictators',\n",
       " 'm just not sure feel s convenience store area mandatory mask policy ask customers mask entered buuuut retail workers country started getting spit beat shot stopped enforcing policy signs want people wear masks no longer asking retail workers safety line confront customers t know feel only want support businesses doing right thing t really fault reasoning',\n",
       " 'great point really important thing safety health babies confirmed amounts virus means poses risk only solution pump dump ive personally able relatch child away weeks only weeks old possible mother wishes breastfeed im not sure work mom wait entire month knows probably',\n",
       " 'know want dump executives vp legally say question only answered way vp answered saying m not sure close no admitting fault suggesting shouldn t open going close close only point hear talk safety s open t say s safe extent information following state federal health guidelines',\n",
       " 'cuomo gets good bad press just trump depending channel twitter sphere paper website does fact tell better worse no fact indisputable president authority responsibility governor try shift attention spite measure cuomo bad trump worse level failure vastly different levels authority probably better consider circumstances response just doing not mention fast learned mistakes learned media wings constantly lambast crazed hobos fun watch fight society s refuse watch long warped view society saying advocacy bleach baths balances scales against hypothetical bleach beverages m not sure guidelines mayo clinic american academy allergy asthma immunology guidelines leader apparently drowning stage flailing pull nearby expert edit m going continue whatabout shit stuff right wing forum people acting shit didn t stink d confront rome barbarians suppose sure not just taking swim aforementioned pond contrarian tendency based enlightenment ego t know ask question come breath enlightened centrism little need feel indicates little individual s actual depth t mind depth end near trying push just',\n",
       " 'st certainly not nd nebulous think s step parent entire remembered life yes s not probably remember time weren t parents living house thinking case know mom married got pregnant kid got divorced not sure order remarried kid kid new husband kid steparent only dad kid really knew kid saw real dad rarely adopted stepdad ish step father died kid kid mind kid kid considered grown parent household argument certainly did add ish year gap husbands happened middle childhood ends feel counted not growing parents']"
      ]
     },
     "execution_count": 142,
     "metadata": {},
     "output_type": "execute_result"
    }
   ],
   "source": [
    "[text for text in events['stripped'] if 'not sure' in text]"
   ]
  },
  {
   "cell_type": "code",
   "execution_count": null,
   "metadata": {},
   "outputs": [],
   "source": []
  }
 ],
 "metadata": {
  "kernelspec": {
   "display_name": "Python [conda env:dsi] *",
   "language": "python",
   "name": "conda-env-dsi-py"
  },
  "language_info": {
   "codemirror_mode": {
    "name": "ipython",
    "version": 3
   },
   "file_extension": ".py",
   "mimetype": "text/x-python",
   "name": "python",
   "nbconvert_exporter": "python",
   "pygments_lexer": "ipython3",
   "version": "3.7.7"
  }
 },
 "nbformat": 4,
 "nbformat_minor": 4
}
