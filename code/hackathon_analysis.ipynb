{
 "cells": [
  {
   "cell_type": "markdown",
   "metadata": {},
   "source": [
    "# Hackathon Reddit Sentiment Analysis"
   ]
  },
  {
   "cell_type": "code",
   "execution_count": 27,
   "metadata": {},
   "outputs": [],
   "source": [
    "import pandas as pd\n",
    "import numpy as np\n",
    "import matplotlib.pyplot as plt\n",
    "\n",
    "import nltk\n",
    "from nltk.stem import WordNetLemmatizer\n",
    "from nltk.tokenize import RegexpTokenizer\n",
    "from nltk.stem.porter import PorterStemmer\n",
    "import re\n",
    "from bs4 import BeautifulSoup   \n",
    "from nltk.corpus import stopwords\n",
    "\n",
    "from sklearn.model_selection import train_test_split\n",
    "from sklearn.feature_extraction.text import CountVectorizer, TfidfVectorizer, ENGLISH_STOP_WORDS as stopwords"
   ]
  },
  {
   "cell_type": "code",
   "execution_count": 143,
   "metadata": {},
   "outputs": [],
   "source": [
    "# read data\n",
    "events = pd.read_csv('../data/events_reddit.csv')"
   ]
  },
  {
   "cell_type": "code",
   "execution_count": 144,
   "metadata": {},
   "outputs": [
    {
     "data": {
      "text/html": [
       "<div>\n",
       "<style scoped>\n",
       "    .dataframe tbody tr th:only-of-type {\n",
       "        vertical-align: middle;\n",
       "    }\n",
       "\n",
       "    .dataframe tbody tr th {\n",
       "        vertical-align: top;\n",
       "    }\n",
       "\n",
       "    .dataframe thead th {\n",
       "        text-align: right;\n",
       "    }\n",
       "</style>\n",
       "<table border=\"1\" class=\"dataframe\">\n",
       "  <thead>\n",
       "    <tr style=\"text-align: right;\">\n",
       "      <th></th>\n",
       "      <th>author</th>\n",
       "      <th>body</th>\n",
       "      <th>created_utc</th>\n",
       "      <th>subreddit</th>\n",
       "      <th>permalink</th>\n",
       "      <th>timestamp</th>\n",
       "    </tr>\n",
       "  </thead>\n",
       "  <tbody>\n",
       "    <tr>\n",
       "      <th>0</th>\n",
       "      <td>DjMagicTouch</td>\n",
       "      <td>You're thinking in extremes man. Just like eve...</td>\n",
       "      <td>1590177465</td>\n",
       "      <td>Coronavirus</td>\n",
       "      <td>/r/Coronavirus/comments/gojqi1/daily_discussio...</td>\n",
       "      <td>2020-05-22</td>\n",
       "    </tr>\n",
       "    <tr>\n",
       "      <th>1</th>\n",
       "      <td>lisaseileise</td>\n",
       "      <td>No, what is so hard to understand here? It‘s j...</td>\n",
       "      <td>1590177616</td>\n",
       "      <td>Coronavirus</td>\n",
       "      <td>/r/Coronavirus/comments/gonje6/the_coronavirus...</td>\n",
       "      <td>2020-05-22</td>\n",
       "    </tr>\n",
       "    <tr>\n",
       "      <th>2</th>\n",
       "      <td>jeopardy987987</td>\n",
       "      <td>it's killed nearly 100,000 in the US in just a...</td>\n",
       "      <td>1590177796</td>\n",
       "      <td>Coronavirus</td>\n",
       "      <td>/r/Coronavirus/comments/gokm4t/a_majority_of_a...</td>\n",
       "      <td>2020-05-22</td>\n",
       "    </tr>\n",
       "    <tr>\n",
       "      <th>3</th>\n",
       "      <td>gp_dude</td>\n",
       "      <td>You are living in an alternate reality if you ...</td>\n",
       "      <td>1590177806</td>\n",
       "      <td>Coronavirus</td>\n",
       "      <td>/r/Coronavirus/comments/goql7x/sweden_escapes_...</td>\n",
       "      <td>2020-05-22</td>\n",
       "    </tr>\n",
       "    <tr>\n",
       "      <th>4</th>\n",
       "      <td>gp_dude</td>\n",
       "      <td>No, it's not accurate, that's what the officia...</td>\n",
       "      <td>1590178095</td>\n",
       "      <td>Coronavirus</td>\n",
       "      <td>/r/Coronavirus/comments/goql7x/sweden_escapes_...</td>\n",
       "      <td>2020-05-22</td>\n",
       "    </tr>\n",
       "  </tbody>\n",
       "</table>\n",
       "</div>"
      ],
      "text/plain": [
       "           author                                               body  \\\n",
       "0    DjMagicTouch  You're thinking in extremes man. Just like eve...   \n",
       "1    lisaseileise  No, what is so hard to understand here? It‘s j...   \n",
       "2  jeopardy987987  it's killed nearly 100,000 in the US in just a...   \n",
       "3         gp_dude  You are living in an alternate reality if you ...   \n",
       "4         gp_dude  No, it's not accurate, that's what the officia...   \n",
       "\n",
       "   created_utc    subreddit  \\\n",
       "0   1590177465  Coronavirus   \n",
       "1   1590177616  Coronavirus   \n",
       "2   1590177796  Coronavirus   \n",
       "3   1590177806  Coronavirus   \n",
       "4   1590178095  Coronavirus   \n",
       "\n",
       "                                           permalink   timestamp  \n",
       "0  /r/Coronavirus/comments/gojqi1/daily_discussio...  2020-05-22  \n",
       "1  /r/Coronavirus/comments/gonje6/the_coronavirus...  2020-05-22  \n",
       "2  /r/Coronavirus/comments/gokm4t/a_majority_of_a...  2020-05-22  \n",
       "3  /r/Coronavirus/comments/goql7x/sweden_escapes_...  2020-05-22  \n",
       "4  /r/Coronavirus/comments/goql7x/sweden_escapes_...  2020-05-22  "
      ]
     },
     "execution_count": 144,
     "metadata": {},
     "output_type": "execute_result"
    }
   ],
   "source": [
    "events.head()"
   ]
  },
  {
   "cell_type": "code",
   "execution_count": 158,
   "metadata": {},
   "outputs": [],
   "source": [
    "remove = ['against','enough','only','no','not']\n",
    "append = ['like','don','gt','https','www','scmp','com','x200b','2020', 'does','did']"
   ]
  },
  {
   "cell_type": "code",
   "execution_count": 159,
   "metadata": {},
   "outputs": [],
   "source": [
    "custom_stops = list(stopwords)\n",
    "for word in remove:\n",
    "    custom_stops.remove(word)\n",
    "for word in append:\n",
    "    custom_stops.append(word)"
   ]
  },
  {
   "cell_type": "code",
   "execution_count": 160,
   "metadata": {},
   "outputs": [],
   "source": [
    "stripped_comments = []\n",
    "\n",
    "for comment in events['body']:\n",
    "    letters_only = re.sub(\"[^a-zA-Z]\",\" \", comment)\n",
    "    words = letters_only.lower().split()\n",
    "    meaningful_words = [w for w in words if w not in custom_stops] \n",
    "    new_body = \" \".join(meaningful_words)\n",
    "    stripped_comments.append(new_body)\n",
    "\n",
    "events['stripped'] = stripped_comments"
   ]
  },
  {
   "cell_type": "code",
   "execution_count": 161,
   "metadata": {},
   "outputs": [],
   "source": [
    "cvec = CountVectorizer(stop_words=custom_stops, ngram_range=(2,4))\n",
    "X_text = events['body']\n",
    "X_text = cvec.fit_transform(X_text)\n",
    "X_text_df = pd.DataFrame(X_text.toarray(), columns = cvec.get_feature_names())"
   ]
  },
  {
   "cell_type": "code",
   "execution_count": 162,
   "metadata": {},
   "outputs": [],
   "source": [
    "top20words = X_text_df.sum().sort_values(ascending=False)[:20]"
   ]
  },
  {
   "cell_type": "code",
   "execution_count": 163,
   "metadata": {},
   "outputs": [
    {
     "data": {
      "image/png": "[encoded data removed]",
      "text/plain": [
       "<Figure size 576x576 with 1 Axes>"
      ]
     },
     "metadata": {
      "needs_background": "light"
     },
     "output_type": "display_data"
    }
   ],
   "source": [
    "plt.figure(figsize=(8,8))\n",
    "plt.barh(y=top20words.index[::-1],width=top20words[::-1],color='goldenrod')\n",
    "plt.suptitle('Most Frequently Used Words in Comments',size=19)\n",
    "plt.title('r/Coronavirus',size=15)\n",
    "plt.xlabel('Frequency',size=13)\n",
    "plt.ylabel('Top Words',size=13)\n",
    "plt.yticks(size=11.5);"
   ]
  },
  {
   "cell_type": "code",
   "execution_count": null,
   "metadata": {},
   "outputs": [],
   "source": []
  }
 ],
 "metadata": {
  "kernelspec": {
   "display_name": "Python [conda env:dsi] *",
   "language": "python",
   "name": "conda-env-dsi-py"
  },
  "language_info": {
   "codemirror_mode": {
    "name": "ipython",
    "version": 3
   },
   "file_extension": ".py",
   "mimetype": "text/x-python",
   "name": "python",
   "nbconvert_exporter": "python",
   "pygments_lexer": "ipython3",
   "version": "3.7.7"
  }
 },
 "nbformat": 4,
 "nbformat_minor": 4
}
